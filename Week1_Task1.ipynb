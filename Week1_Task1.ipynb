{
  "nbformat": 4,
  "nbformat_minor": 0,
  "metadata": {
    "colab": {
      "name": "Week1_Task1",
      "provenance": [],
      "authorship_tag": "ABX9TyN/l/LM11tdAtRdWvSca1Ah",
      "include_colab_link": true
    },
    "kernelspec": {
      "name": "python3",
      "display_name": "Python 3"
    }
  },
  "cells": [
    {
      "cell_type": "markdown",
      "metadata": {
        "id": "view-in-github",
        "colab_type": "text"
      },
      "source": [
        "<a href=\"https://colab.research.google.com/github/1kruidenp/PRA3500/blob/master/Week1_Task1.ipynb\" target=\"_parent\"><img src=\"https://colab.research.google.com/assets/colab-badge.svg\" alt=\"Open In Colab\"/></a>"
      ]
    },
    {
      "cell_type": "code",
      "metadata": {
        "id": "BBJjLusvtfjx",
        "colab_type": "code",
        "outputId": "c74fe436-b6f2-40e3-99b4-9da013f8e8a8",
        "colab": {
          "base_uri": "https://localhost:8080/",
          "height": 503
        }
      },
      "source": [
        "#Tasks 1.1 and 1.2\n",
        "\n",
        "\n",
        "import numpy as np\n",
        "import matplotlib.pyplot as plt\n",
        "\n",
        "#Below we define all of our constants, each is explained with a comment above\n",
        "\n",
        "#Percentage of population having antibodies\n",
        "Per_Anti=0.01\n",
        "#Number of population we will be testing\n",
        "Population=500000\n",
        "#Percentage of positive test being real positive\n",
        "Per_PTP=0.99\n",
        "#Percentage of positive test being false negative\n",
        "Per_PTN=0.01\n",
        "#Percentage of negative test being real negative\n",
        "Per_NTN=0.95\n",
        "#Percentage of negative test being fake positive\n",
        "Per_NTP=0.05\n",
        "\n",
        "\n",
        "#Here we create a list. The length of the list is the size of the population we use. We have two values, 0 and 1.\n",
        "#Zero is chosen with a probability of 99%, the percentage of the population with no antibodies\n",
        "#1 means that they do have antibodies, the percent chance that they have this is 1%\n",
        "Ar=np.random.choice(2,Population,p=[1-Per_Anti, Per_Anti])\n",
        "Dataset=list(Ar)\n",
        "\n",
        "#Here we count the amount of people that have and do not have the antibodies. The amount with is printed in the output\n",
        "Pop_RP=Dataset.count(1)\n",
        "Pop_RN=Dataset.count(0)\n",
        "print(\"Population with antibodies: \" + str(Pop_RP))\n",
        "\n",
        "\n",
        "\n",
        "def PositiveTest(Data, Per0, Per1):\n",
        "  #99% of real positive become tested positive and 1% will become tested negative\n",
        "  #PTP=Positive tested positive\n",
        "  #PTN=Positive tested negative\n",
        "  PosTest=list(np.random.choice(2,Data,p=[Per0, Per1]))\n",
        "  return PosTest\n",
        "\n",
        "def NegativeTest(Data, Per0, Per1):\n",
        "  #95% of real negative become tested negative and 5% will become tested positive\n",
        "  #NTN=Negative tested Negative\n",
        "  #NTP=Negative tested Positive\n",
        "  NegTest=list(np.random.choice(2,Data,p=[Per0, Per1]))\n",
        "  return NegTest\n",
        "\n",
        "PosTest=PositiveTest(Pop_RP, Per_PTN, Per_PTP)\n",
        "Pop_PTP=PosTest.count(1)\n",
        "Pop_PTN=PosTest.count(0)\n",
        "\n",
        "NegTest=NegativeTest(Pop_RN, Per_NTN, Per_NTP)\n",
        "Pop_NTN=NegTest.count(0)\n",
        "Pop_NTP=NegTest.count(1)\n",
        "\n",
        "print(\"Population of Positive people tested positive: \" + str(Pop_PTP))\n",
        "print(\"Population of Positive people tested negative: \" + str(Pop_PTN))\n",
        "print(\"Population of Negative people tested negative: \" + str(Pop_NTN))\n",
        "print(\"Population of Negative people tested positive: \" + str(Pop_NTP))\n",
        "\n",
        "def chance_Pos(PTP, NTP):\n",
        "  Chance=(PTP/(PTP+NTP))*100\n",
        "  return Chance\n",
        "def chance_Neg(NTN, PTN):\n",
        "  Chance=(NTN/(NTN+PTN))*100\n",
        "  return Chance\n",
        "\n",
        "print(\"Percentage of people tested positive actually being positive: \" + str(chance_Pos(Pop_PTP, Pop_NTP)))\n",
        "print(\"Percentage of people tested negative actually being negative: \" + str(chance_Neg(Pop_NTN, Pop_PTN)))\n",
        "\n",
        "#we have to add 0.005 to Per_Anti until chance_Pos become >=0.5\n",
        "print(\"\")\n",
        "print(\"\")\n",
        "\n",
        "import matplotlib.pyplot as plt\n",
        "fig_dataX=[0]\n",
        "fig_dataY=[0]\n",
        "\n",
        "i=0\n",
        "while chance_Pos(Pop_PTP, Pop_NTP)<50:\n",
        " \n",
        "  \n",
        "  Dataset=list(np.random.choice(2,Population,p=[1-Per_Anti, Per_Anti]))\n",
        "\n",
        "  Pop_RP=Dataset.count(1)\n",
        "  Pop_RN=Dataset.count(0)\n",
        "  PosTest=PositiveTest(Pop_RP, Per_PTN, Per_PTP)\n",
        "  Pop_PTP=PosTest.count(1)\n",
        "  Pop_PTN=PosTest.count(0)\n",
        "\n",
        "  NegTest=NegativeTest(Pop_RN, Per_NTN, Per_NTP)\n",
        "  Pop_NTN=NegTest.count(0)\n",
        "  Pop_NTP=NegTest.count(1)\n",
        "  fig_dataX[i]=Per_Anti\n",
        "  fig_dataY[i]=chance_Pos(Pop_PTP, Pop_NTP)\n",
        "  fig_dataX.append(1)\n",
        "  fig_dataY.append(1)\n",
        "  i+=1\n",
        "  Per_Anti = Per_Anti+0.002\n",
        "\n",
        "\n",
        "\n",
        "fig_dataX.pop()\n",
        "fig_dataY.pop()\n",
        "\n",
        "\n",
        "#Increasing population smoothes curve\n",
        "#For 50% of positive tests you would need 5% of population to have antibodies\n",
        "plt.plot(fig_dataX,fig_dataY)\n",
        "plt.xlabel(\"Percentage of people with antibodies\")\n",
        "plt.ylabel(\"Percentage of people tested positive actually tested positive\")\n",
        "\n",
        "\n",
        "\n",
        "\n",
        "  \n",
        "    "
      ],
      "execution_count": 1,
      "outputs": [
        {
          "output_type": "stream",
          "text": [
            "Population with antibodies: 4988\n",
            "Population of Positive people tested positive: 4926\n",
            "Population of Positive people tested negative: 62\n",
            "Population of Negative people tested negative: 470290\n",
            "Population of Negative people tested positive: 24722\n",
            "Percentage of people tested positive actually being positive: 16.614948731786292\n",
            "Percentage of people tested negative actually being negative: 99.98681838282818\n",
            "\n",
            "\n"
          ],
          "name": "stdout"
        },
        {
          "output_type": "execute_result",
          "data": {
            "text/plain": [
              "Text(0, 0.5, 'Percentage of people tested positive actually tested positive')"
            ]
          },
          "metadata": {
            "tags": []
          },
          "execution_count": 1
        },
        {
          "output_type": "display_data",
          "data": {
            "image/png": "[encoded data removed]",
            "text/plain": [
              "<Figure size 432x288 with 1 Axes>"
            ]
          },
          "metadata": {
            "tags": [],
            "needs_background": "light"
          }
        }
      ]
    },
    {
      "cell_type": "code",
      "metadata": {
        "id": "FoCQPNst1rSJ",
        "colab_type": "code",
        "outputId": "75bd569e-81fa-4fde-fdd3-4d0f8c883c67",
        "colab": {
          "base_uri": "https://localhost:8080/",
          "height": 404
        }
      },
      "source": [
        "\n",
        "\n",
        "import math\n",
        "import random\n",
        "from bisect import bisect\n",
        "from random import random\n",
        "\n",
        "\n",
        "\n",
        "n=10\n",
        "#Probability of event happening\n",
        "p=0.6\n",
        "#\n",
        "sqrt=math.sqrt\n",
        "bins=11\n",
        "pi=math.pi\n",
        "stdev=2.5\n",
        "mean=5\n",
        "datasize=100000\n",
        "Beta=1\n",
        "Mu=0\n",
        "rangemin=2\n",
        "rangemax=5\n",
        "#0-10 men(11 data points)\n",
        "x=[0]*(n+1)\n",
        "P=[0]*(n+1)\n",
        "#The below probabilities are not needed, I could chose to plot one of the functions (shown below) but i chose to plot all in my output to show all the results\n",
        "P1=[0]*(n+1)\n",
        "P2=[0]*(n+1)\n",
        "P3=[0]*(n+1)\n",
        "y=[0]*(datasize+1)\n",
        "#The same applies for the y values just like for the P values\n",
        "y1=[0]*(datasize+1)\n",
        "y2=[0]*(datasize+1)\n",
        "y3=[0]*(datasize+1)\n",
        "\n",
        "\n",
        "\n",
        "def weighted_choice(choices):\n",
        "    values, weights = zip(*choices)\n",
        "    total = 0\n",
        "    cum_weights = []\n",
        "    for w in weights:\n",
        "        total += w\n",
        "        cum_weights.append(total)\n",
        "    X = random() * total\n",
        "    i = bisect(cum_weights, X)\n",
        "    return values[i]\n",
        "\n",
        "#Defining the function\n",
        "\n",
        "def gaussian(stdv,mean,x):\n",
        "  P=(1/(sqrt(2*(stdv**2)*pi)))*(math.exp((-0.5*(x-mean)**2)/(stdv**2))) \n",
        "  return P\n",
        "\n",
        "def binomial(n,p,x):\n",
        "  q=1-p\n",
        "  P=((math.factorial(n))/((math.factorial(n-x))*math.factorial(x)))*(p**x)*(q**(n-x))\n",
        "  return P\n",
        "\n",
        "def poisson(mean, x):\n",
        "  P=((mean**x)*(math.exp(-2.5)))/(math.factorial(x))\n",
        "  return P\n",
        "\n",
        "def exponential(Beta, Mu, x):\n",
        "  if Mu>x:\n",
        "    return \"error: Mu must be smaller or equal than x\"\n",
        "  if Beta<=0:\n",
        "    return \"error: Beta must be larger than zero\"\n",
        "  P=(1/Beta)*math.exp(-(x-Mu)/Beta)\n",
        "  return P\n",
        "\n",
        "def sum(rangemin,rangemax):\n",
        "  Ptot=0\n",
        "  k=0\n",
        "  for k in range(rangemin,rangemax+1):#otherwise rangemax is skipped\n",
        "    Ptot=Ptot+gaussian(stdev,mean,x[k])\n",
        "    #Ptot=Ptot+binomial(n,p,x[k])\n",
        "    #Ptot=Ptot+poisson(mean,x[i])\n",
        "    #Ptot=Ptot+exponential(Beta, Mu, x[i])\n",
        "    k=k+1\n",
        "  return Ptot\n",
        "\n",
        "i=0\n",
        "for i in range(n+1):\n",
        "  x[i]=i\n",
        "  P[i]=gaussian(stdev,mean,x[i])\n",
        "  #P[i]=binomial(n,p,x[i])\n",
        "  #P[i]=poisson(mean,x[i])\n",
        "  #P[i]=exponential(Beta, Mu, x[i])\n",
        "\n",
        "  P1[i]=binomial(n,p,x[i])\n",
        "  P2[i]=poisson(mean,x[i])\n",
        "  P3[i]=exponential(Beta, Mu, x[i])\n",
        "  \n",
        "\n",
        "  i=i+ 1\n",
        "\n",
        "j=0\n",
        "for j in range(datasize+1):\n",
        "    y[j]=weighted_choice([(x[0],P[0]), (x[1],P[1]), (x[2],P[2]), (x[3],P[3]), (x[4],P[4]), (x[5],P[5]), (x[6],P[6]), (x[7],P[7]), (x[8],P[8]), (x[9],P[9]), (x[10],P[10])])\n",
        "    #the bottom are not needed but as i want to show all my graphs in the output i copied for all functions\n",
        "    y1[j]=weighted_choice([(x[0],P1[0]), (x[1],P1[1]), (x[2],P1[2]), (x[3],P1[3]), (x[4],P1[4]), (x[5],P1[5]), (x[6],P1[6]), (x[7],P1[7]), (x[8],P1[8]), (x[9],P1[9]), (x[10],P1[10])])\n",
        "    y2[j]=weighted_choice([(x[0],P2[0]), (x[1],P2[1]), (x[2],P2[2]), (x[3],P2[3]), (x[4],P2[4]), (x[5],P2[5]), (x[6],P2[6]), (x[7],P2[7]), (x[8],P2[8]), (x[9],P2[9]), (x[10],P2[10])])\n",
        "    y3[j]=weighted_choice([(x[0],P3[0]), (x[1],P3[1]), (x[2],P3[2]), (x[3],P3[3]), (x[4],P3[4]), (x[5],P3[5]), (x[6],P3[6]), (x[7],P3[7]), (x[8],P3[8]), (x[9],P3[9]), (x[10],P3[10])])\n",
        "\n",
        "\n",
        "Psum=sum(rangemin,rangemax)\n",
        "print(P)\n",
        "print(\"The sum of the probability function between \" + str(rangemin) + \" and \" + str(rangemax) + \" is: \" + str(Psum))\n",
        "\n",
        "fig = plt.figure()\n",
        "pl = fig.add_subplot(221)\n",
        "pl1 = fig.add_subplot(222)\n",
        "pl2 = fig.add_subplot(223)\n",
        "pl3 = fig.add_subplot(224)\n",
        "\n",
        "pl.hist(y,bins, range=[0, 11])\n",
        "pl1.hist(y1,bins, range=[0, 11])\n",
        "pl2.hist(y2,bins, range=[0, 11])\n",
        "pl3.hist(y3,bins, range=[0, 11])\n",
        "\n",
        "\n",
        "\n",
        "\n"
      ],
      "execution_count": 2,
      "outputs": [
        {
          "output_type": "stream",
          "text": [
            "[0.02159638660527522, 0.044368333871782226, 0.07767442199328518, 0.1158766211045931, 0.14730805612132933, 0.15957691216057307, 0.14730805612132933, 0.1158766211045931, 0.07767442199328518, 0.044368333871782226, 0.02159638660527522]\n",
            "The sum of the probability function between 2 and 5 is: 0.5004360113797808\n"
          ],
          "name": "stdout"
        },
        {
          "output_type": "execute_result",
          "data": {
            "text/plain": [
              "(array([6.3028e+04, 2.3446e+04, 8.5170e+03, 3.1780e+03, 1.1620e+03,\n",
              "        4.1400e+02, 1.5300e+02, 6.4000e+01, 2.7000e+01, 9.0000e+00,\n",
              "        3.0000e+00]),\n",
              " array([ 0.,  1.,  2.,  3.,  4.,  5.,  6.,  7.,  8.,  9., 10., 11.]),\n",
              " <a list of 11 Patch objects>)"
            ]
          },
          "metadata": {
            "tags": []
          },
          "execution_count": 2
        },
        {
          "output_type": "display_data",
          "data": {
            "image/png": "[encoded data removed]",
            "text/plain": [
              "<Figure size 432x288 with 4 Axes>"
            ]
          },
          "metadata": {
            "tags": [],
            "needs_background": "light"
          }
        }
      ]
    },
    {
      "cell_type": "code",
      "metadata": {
        "id": "mP7iuhDcI7Iu",
        "colab_type": "code",
        "outputId": "93701e93-91b8-4e2f-9d1b-769ce0677d8e",
        "colab": {
          "base_uri": "https://localhost:8080/",
          "height": 282
        }
      },
      "source": [
        "stdv=2.5\n",
        "mean=5\n",
        "nC=1000\n",
        "xmin=-5\n",
        "xmax=15\n",
        "xC=np.linspace(xmin,xmax,nC+1)\n",
        "PC=[0]*(nC+1)\n",
        "\n",
        "i=0\n",
        "for i in range(nC+1):\n",
        "  PC[i]=gaussian(stdev,mean,xC[i])\n",
        "  i=i+1\n",
        "\n",
        "plt.plot(xC,PC)\n",
        "plt.xlim(xmin,xmax)\n"
      ],
      "execution_count": 3,
      "outputs": [
        {
          "output_type": "execute_result",
          "data": {
            "text/plain": [
              "(-5.0, 15.0)"
            ]
          },
          "metadata": {
            "tags": []
          },
          "execution_count": 3
        },
        {
          "output_type": "display_data",
          "data": {
            "image/png": "[encoded data removed]",
            "text/plain": [
              "<Figure size 432x288 with 1 Axes>"
            ]
          },
          "metadata": {
            "tags": [],
            "needs_background": "light"
          }
        }
      ]
    },
    {
      "cell_type": "code",
      "metadata": {
        "id": "YXxwb39r-tFR",
        "colab_type": "code",
        "outputId": "93cccf35-1fe4-461e-f320-a0baf526cb3b",
        "colab": {
          "base_uri": "https://localhost:8080/",
          "height": 51
        }
      },
      "source": [
        " from scipy.integrate import quad\n",
        "\n",
        "\n",
        "def dis_expectation(x,P):\n",
        "  Sum=0\n",
        "  i=0\n",
        "  for i in range(n+1):\n",
        "    Sum=Sum+x[i]*P[i]\n",
        "    i=i+1\n",
        "  return Sum\n",
        "\n",
        "print(dis_expectation(x,P))\n",
        "\n",
        "def integrand(x):\n",
        "  return ((1/(sqrt(2*(stdv**2)*pi)))*(math.exp((-0.5*(x-mean)**2)/(stdv**2))))*x\n",
        "\n",
        "\n",
        "ans, err = quad(integrand,-20,30)\n",
        "print(ans)\n",
        "  \n"
      ],
      "execution_count": 4,
      "outputs": [
        {
          "output_type": "stream",
          "text": [
            "4.866122757765516\n",
            "5.000000000000001\n"
          ],
          "name": "stdout"
        }
      ]
    },
    {
      "cell_type": "code",
      "metadata": {
        "id": "Y70ROBGqWESV",
        "colab_type": "code",
        "colab": {
          "base_uri": "https://localhost:8080/",
          "height": 289
        },
        "outputId": "98572fb2-1d72-45a8-bea0-09f18efb5665"
      },
      "source": [
        "import random\n",
        "\n",
        "n=20\n",
        "box=[0]*20\n",
        "for i in range(n):\n",
        "  box[i]=(i+1)*1000\n",
        "\n",
        "print(\"Welcome to deal or no deal, we have twenty box's each containing the following amount: \" )\n",
        "print(\"\")\n",
        "print(box)\n",
        "print(\"\")\n",
        "print(\"We will now shuffle the box's and place them in a row\")\n",
        "print(\"\")\n",
        "random.shuffle(box)\n",
        "\n",
        "box_chos = int(input(\"Please choose the box in the row that you want: \"))\n",
        "box_chosen=box[box_chos]\n",
        "print(\"\")\n",
        "print(\"You chose \" + str(box_chos)+ \". This box will not be opened yet!\")\n",
        "del box[box_chos]\n",
        "print(\"\")\n",
        "print(\"Now three more boxes are chosen at random.\")\n",
        "box1=random.choice(box)\n",
        "i=0\n",
        "j=0\n",
        "k=0 \n",
        "\n",
        "\n",
        "for i in range(n-2):\n",
        "  if box[i]==box1:\n",
        "    box[i]=0\n",
        "  elif box[i]!=box1:\n",
        "   i=i+1\n",
        "\n",
        "box2=random.choice(box)\n",
        "for j in range(n-3):\n",
        "  if box[j]==box2:\n",
        "    box[j]=0\n",
        "  elif box[j]!=box2:\n",
        "   j=j+1\n",
        "\n",
        "box3=random.choice(box)\n",
        "for i in range(n-4):\n",
        "  if box[k]==box3:\n",
        "    box[k]=0\n",
        "  elif box[k]!=box3:\n",
        "   k=k+1\n",
        "\n",
        "\n",
        "print(\"\")\n",
        "print(\"The three boxes chosen contain values : \" +str(box1)+ \", \"+ str(box2)+\", \"+str(box3))\n",
        "\n",
        "box.append(box_chosen)\n",
        "P=[0]*(n+1)\n",
        "i=0\n",
        "for i in range(n+1):\n",
        "  P[i]=1/(len(box))\n",
        "  i=i+1\n",
        "\n",
        "print(P)\n",
        "print(box)\n",
        "box.append(0)\n",
        "ex_value=dis_expectation(box,P)\n",
        "print(\"The expected amount in this box is: \" + str(ex_value)+ \"$!!!\")\n",
        "\n",
        "\n",
        "\n"
      ],
      "execution_count": 5,
      "outputs": [
        {
          "output_type": "stream",
          "text": [
            "Welcome to deal or no deal, we have twenty box's each containing the following amount: \n",
            "\n",
            "[1000, 2000, 3000, 4000, 5000, 6000, 7000, 8000, 9000, 10000, 11000, 12000, 13000, 14000, 15000, 16000, 17000, 18000, 19000, 20000]\n",
            "\n",
            "We will now shuffle the box's and place them in a row\n",
            "\n",
            "Please choose the box in the row that you want: 2\n",
            "\n",
            "You chose 2. This box will not be opened yet!\n",
            "\n",
            "Now three more boxes are chosen at random.\n",
            "\n",
            "The three boxes chosen contain values : 19000, 0, 20000\n",
            "[0.05, 0.05, 0.05, 0.05, 0.05, 0.05, 0.05, 0.05, 0.05, 0.05, 0.05, 0.05, 0.05, 0.05, 0.05, 0.05, 0.05, 0.05, 0.05, 0.05, 0.05]\n",
            "[0, 16000, 5000, 15000, 13000, 2000, 1000, 12000, 4000, 14000, 11000, 0, 17000, 6000, 7000, 3000, 9000, 8000, 10000, 18000]\n",
            "The expected amount in this box is: 8550.0$!!!\n"
          ],
          "name": "stdout"
        }
      ]
    }
  ]
}