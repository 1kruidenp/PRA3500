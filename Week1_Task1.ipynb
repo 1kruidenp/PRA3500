{
  "nbformat": 4,
  "nbformat_minor": 0,
  "metadata": {
    "colab": {
      "name": "Week1_Task1",
      "provenance": [],
      "authorship_tag": "ABX9TyPugXOXUINFrQRvcPIVEWVI",
      "include_colab_link": true
    },
    "kernelspec": {
      "name": "python3",
      "display_name": "Python 3"
    }
  },
  "cells": [
    {
      "cell_type": "markdown",
      "metadata": {
        "id": "view-in-github",
        "colab_type": "text"
      },
      "source": [
        "<a href=\"https://colab.research.google.com/github/1kruidenp/PRA3500/blob/master/Week1_Task1.ipynb\" target=\"_parent\"><img src=\"https://colab.research.google.com/assets/colab-badge.svg\" alt=\"Open In Colab\"/></a>"
      ]
    },
    {
      "cell_type": "code",
      "metadata": {
        "id": "BBJjLusvtfjx",
        "colab_type": "code",
        "outputId": "97d1a979-d0bd-4b94-ca5f-88c707bfc9d5",
        "colab": {
          "base_uri": "https://localhost:8080/",
          "height": 503
        }
      },
      "source": [
        "import numpy as np\n",
        "import matplotlib.pyplot as plt\n",
        "\n",
        "#Percentage of population having antibodies\n",
        "Per_Anti=0.01\n",
        "#Number of population we will be testing\n",
        "Population=500000\n",
        "#Percentage of positive test being real positive\n",
        "Per_PTP=0.99\n",
        "#Percentage of positive test being false negative\n",
        "Per_PTN=0.01\n",
        "#Percentage of negative test being real negative\n",
        "Per_NTN=0.95\n",
        "#Percentage of negative test being fake positive\n",
        "Per_NTP=0.05\n",
        "\n",
        "\n",
        "\n",
        "Ar=np.random.choice(2,Population,p=[1-Per_Anti, Per_Anti])\n",
        "Dataset=list(Ar)\n",
        "\n",
        "\n",
        "Pop_RP=Dataset.count(1)\n",
        "Pop_RN=Dataset.count(0)\n",
        "print(\"Population with antibodies: \" + str(Pop_RP))\n",
        "\n",
        "\n",
        "\n",
        "def PositiveTest(Data, Per0, Per1):\n",
        "  #99% of real positive become tested positive and 1% will become tested negative\n",
        "  #PTP=Positive tested positive\n",
        "  #PTN=Positive tested negative\n",
        "  PosTest=list(np.random.choice(2,Data,p=[Per0, Per1]))\n",
        "  return PosTest\n",
        "\n",
        "def NegativeTest(Data, Per0, Per1):\n",
        "  #95% of real negative become tested negative and 5% will become tested positive\n",
        "  #NTN=Negative tested Negative\n",
        "  #NTP=Negative tested Positive\n",
        "  NegTest=list(np.random.choice(2,Data,p=[Per0, Per1]))\n",
        "  return NegTest\n",
        "\n",
        "PosTest=PositiveTest(Pop_RP, Per_PTN, Per_PTP)\n",
        "Pop_PTP=PosTest.count(1)\n",
        "Pop_PTN=PosTest.count(0)\n",
        "\n",
        "NegTest=NegativeTest(Pop_RN, Per_NTN, Per_NTP)\n",
        "Pop_NTN=NegTest.count(0)\n",
        "Pop_NTP=NegTest.count(1)\n",
        "\n",
        "print(\"Population of Positive people tested positive: \" + str(Pop_PTP))\n",
        "print(\"Population of Positive people tested negative: \" + str(Pop_PTN))\n",
        "print(\"Population of Negative people tested negative: \" + str(Pop_NTN))\n",
        "print(\"Population of Negative people tested positive: \" + str(Pop_NTP))\n",
        "\n",
        "def chance_Pos(PTP, NTP):\n",
        "  Chance=(PTP/(PTP+NTP))*100\n",
        "  return Chance\n",
        "def chance_Neg(NTN, PTN):\n",
        "  Chance=(NTN/(NTN+PTN))*100\n",
        "  return Chance\n",
        "\n",
        "print(\"Percentage of people tested positive actually being positive: \" + str(chance_Pos(Pop_PTP, Pop_NTP)))\n",
        "print(\"Percentage of people tested negative actually being negative: \" + str(chance_Neg(Pop_NTN, Pop_PTN)))\n",
        "\n",
        "#we have to add 0.005 to Per_Anti until chance_Pos become >=0.5\n",
        "print(\"\")\n",
        "print(\"\")\n",
        "\n",
        "import matplotlib.pyplot as plt\n",
        "fig_dataX=[0]\n",
        "fig_dataY=[0]\n",
        "\n",
        "i=0\n",
        "while chance_Pos(Pop_PTP, Pop_NTP)<50:\n",
        " \n",
        "  \n",
        "  Dataset=list(np.random.choice(2,Population,p=[1-Per_Anti, Per_Anti]))\n",
        "\n",
        "  Pop_RP=Dataset.count(1)\n",
        "  Pop_RN=Dataset.count(0)\n",
        "  PosTest=PositiveTest(Pop_RP, Per_PTN, Per_PTP)\n",
        "  Pop_PTP=PosTest.count(1)\n",
        "  Pop_PTN=PosTest.count(0)\n",
        "\n",
        "  NegTest=NegativeTest(Pop_RN, Per_NTN, Per_NTP)\n",
        "  Pop_NTN=NegTest.count(0)\n",
        "  Pop_NTP=NegTest.count(1)\n",
        "  fig_dataX[i]=Per_Anti\n",
        "  fig_dataY[i]=chance_Pos(Pop_PTP, Pop_NTP)\n",
        "  fig_dataX.append(1)\n",
        "  fig_dataY.append(1)\n",
        "  i+=1\n",
        "  Per_Anti = Per_Anti+0.002\n",
        "\n",
        "\n",
        "\n",
        "fig_dataX.pop()\n",
        "fig_dataY.pop()\n",
        "\n",
        "\n",
        "#Increasing population smoothes curve\n",
        "#For 50% of positive tests you would need 5% of population to have antibodies\n",
        "plt.plot(fig_dataX,fig_dataY)\n",
        "plt.xlabel(\"Percentage of people with antibodies\")\n",
        "plt.ylabel(\"Percentage of people tested positive actually tested positive\")\n",
        "\n",
        "\n",
        "\n",
        "\n",
        "  \n",
        "    "
      ],
      "execution_count": 1,
      "outputs": [
        {
          "output_type": "stream",
          "text": [
            "Population with antibodies: 4928\n",
            "Population of Positive people tested positive: 4882\n",
            "Population of Positive people tested negative: 46\n",
            "Population of Negative people tested negative: 470293\n",
            "Population of Negative people tested positive: 24779\n",
            "Percentage of people tested positive actually being positive: 16.459323691042112\n",
            "Percentage of people tested negative actually being negative: 99.99021982017226\n",
            "\n",
            "\n"
          ],
          "name": "stdout"
        },
        {
          "output_type": "execute_result",
          "data": {
            "text/plain": [
              "Text(0, 0.5, 'Percentage of people tested positive actually tested positive')"
            ]
          },
          "metadata": {
            "tags": []
          },
          "execution_count": 1
        },
        {
          "output_type": "display_data",
          "data": {
            "image/png": "[encoded data removed]",
            "text/plain": [
              "<Figure size 432x288 with 1 Axes>"
            ]
          },
          "metadata": {
            "tags": [],
            "needs_background": "light"
          }
        }
      ]
    },
    {
      "cell_type": "code",
      "metadata": {
        "id": "77V7Rcino6AX",
        "colab_type": "code",
        "colab": {}
      },
      "source": [
        "\n",
        "\n"
      ],
      "execution_count": 0,
      "outputs": []
    }
  ]
}