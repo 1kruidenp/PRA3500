{
  "nbformat": 4,
  "nbformat_minor": 0,
  "metadata": {
    "colab": {
      "name": "Week1_Final",
      "provenance": [],
      "authorship_tag": "ABX9TyNYgSbLJxqJemqWTXbQ78Y4",
      "include_colab_link": true
    },
    "kernelspec": {
      "name": "python3",
      "display_name": "Python 3"
    }
  },
  "cells": [
    {
      "cell_type": "markdown",
      "metadata": {
        "id": "view-in-github",
        "colab_type": "text"
      },
      "source": [
        "<a href=\"https://colab.research.google.com/github/1kruidenp/PRA3500/blob/master/Week1_Final.ipynb\" target=\"_parent\"><img src=\"https://colab.research.google.com/assets/colab-badge.svg\" alt=\"Open In Colab\"/></a>"
      ]
    },
    {
      "cell_type": "markdown",
      "metadata": {
        "id": "L82OhyRk7rtO",
        "colab_type": "text"
      },
      "source": [
        "In this first code of block we do task 1.1 and 1.2.\n",
        "We create functions that calculate the chances for all 4 outcomes from a real population which is created at first. All the steps are described in the green comments. \n",
        "\n",
        "The result that we get is that only 16.6 percent of the people tested positive actually carry the antibodies.\n",
        "For task 1.2 we find that when 5% of the population carries the antibody, will 50% of the people tested positive being antibody carriers.\n",
        "\n",
        "\n",
        "\n"
      ]
    },
    {
      "cell_type": "code",
      "metadata": {
        "id": "BBJjLusvtfjx",
        "colab_type": "code",
        "outputId": "3f44b71c-9ae8-42db-de75-731fd933f1fc",
        "colab": {
          "base_uri": "https://localhost:8080/",
          "height": 474
        }
      },
      "source": [
        "#Tasks 1.1 and 1.2\n",
        "\n",
        "\n",
        "import numpy as np\n",
        "import matplotlib.pyplot as plt\n",
        "\n",
        "#Below we define all of our constants, each is explained with a comment above\n",
        "\n",
        "#Percentage of population having antibodies\n",
        "Per_Anti=0.01\n",
        "#Number of population we will be testing\n",
        "Population=500000\n",
        "#Percentage of positive test being real positive\n",
        "Per_PTP=0.99\n",
        "#Percentage of positive test being false negative\n",
        "Per_PTN=0.01\n",
        "#Percentage of negative test being real negative\n",
        "Per_NTN=0.95\n",
        "#Percentage of negative test being fake positive\n",
        "Per_NTP=0.05\n",
        "\n",
        "\n",
        "#Here we create a list. The length of the list is the size of the population we use. We have two values, 0 and 1.\n",
        "#Zero is chosen with a probability of 99%, the percentage of the population with no antibodies\n",
        "#1 means that they do have antibodies, the percent chance that they have this is 1%\n",
        "Ar=np.random.choice(2,Population,p=[1-Per_Anti, Per_Anti])\n",
        "Dataset=list(Ar)\n",
        "\n",
        "#Here we count the amount of people that have and do not have the antibodies. The amount with is printed in the output\n",
        "Pop_RP=Dataset.count(1)\n",
        "Pop_RN=Dataset.count(0)\n",
        "print(\"Population with antibodies: \" + str(Pop_RP))\n",
        "\n",
        "\n",
        "#Here we create a test function for positive results to the antibodies. \n",
        "# Two percentages can be given Per0 and Per1 where Per0 is the prob. that a positive person is tested negative\n",
        "#Per1 is the prob. that the positive person is tested positive\n",
        "#I made it a function so that the percentages could be altered in the future\n",
        "#The function creates a list for the positive population and shows which are tested positive and negative\n",
        "def PositiveTest(Data, Per0, Per1):\n",
        "  #99% of real positive become tested positive and 1% will become tested negative\n",
        "  PosTest=list(np.random.choice(2,Data,p=[Per0, Per1]))\n",
        "  return PosTest\n",
        "\n",
        "#Same here, Per0 is the probability that a negative person is tested negative and Per1 for a negative person is tested positive\n",
        "def NegativeTest(Data, Per0, Per1):\n",
        "  #95% of real negative become tested negative and 5% will become tested positive\n",
        "  NegTest=list(np.random.choice(2,Data,p=[Per0, Per1]))\n",
        "  return NegTest\n",
        "\n",
        "\n",
        "#Here we call the function and then count the tests in the list made by the function\n",
        "PosTest=PositiveTest(Pop_RP, Per_PTN, Per_PTP)\n",
        "Pop_PTP=PosTest.count(1)\n",
        "Pop_PTN=PosTest.count(0)\n",
        "\n",
        "#Same here\n",
        "NegTest=NegativeTest(Pop_RN, Per_NTN, Per_NTP)\n",
        "Pop_NTN=NegTest.count(0)\n",
        "Pop_NTP=NegTest.count(1)\n",
        "\n",
        "\n",
        "#Here we print our results\n",
        "print(\"Population of Positive people tested positive: \" + str(Pop_PTP))\n",
        "print(\"Population of Positive people tested negative: \" + str(Pop_PTN))\n",
        "print(\"Population of Negative people tested negative: \" + str(Pop_NTN))\n",
        "print(\"Population of Negative people tested positive: \" + str(Pop_NTP))\n",
        "\n",
        "\n",
        "#Here we create a function where the chance of a positive person tested positive is calculated, and the same for a negative person tested negative.\n",
        "#I chose to do a function so then if we change something(as we do in the next task) it can be called and not repeated again\n",
        "def chance_Pos(PTP, NTP):\n",
        "  Chance=(PTP/(PTP+NTP))*100\n",
        "  return Chance\n",
        "def chance_Neg(NTN, PTN):\n",
        "  Chance=(NTN/(NTN+PTN))*100\n",
        "  return Chance\n",
        "\n",
        "#Here we print our results\n",
        "print(\"Percentage of people tested positive actually being positive: \" + str(chance_Pos(Pop_PTP, Pop_NTP)))\n",
        "print(\"Percentage of people tested negative actually being negative: \" + str(chance_Neg(Pop_NTN, Pop_PTN)))\n",
        "\n",
        "\n",
        "#Here we start task 2\n",
        "print(\"\")\n",
        "print(\"\")\n",
        "\n",
        "#We stard by making a list which will be the data we will be plotting in the end. \n",
        "#Initially it is just a zero\n",
        "import matplotlib.pyplot as plt\n",
        "fig_dataX=[0]\n",
        "fig_dataY=[0]\n",
        "\n",
        "#Here we create a loop which continues until the chance that a tested positive is actually positive is 50%\n",
        "#we iterate over i, which goes up by 1 each loop, and represents the index of the data we are plotting (X,y)\n",
        "#In this loop we follow all the steps done above, but at the end, the percentage of people with antibodies is increased with 0.2%\n",
        "#It is increased so small so to smoothen the final curve, as we have more data points by doing so.\n",
        "#This does of course slow the computation.\n",
        "i=0\n",
        "while chance_Pos(Pop_PTP, Pop_NTP)<50:\n",
        " \n",
        "  \n",
        "  Dataset=list(np.random.choice(2,Population,p=[1-Per_Anti, Per_Anti]))\n",
        "\n",
        "  Pop_RP=Dataset.count(1)\n",
        "  Pop_RN=Dataset.count(0)\n",
        "  PosTest=PositiveTest(Pop_RP, Per_PTN, Per_PTP)\n",
        "  Pop_PTP=PosTest.count(1)\n",
        "  Pop_PTN=PosTest.count(0)\n",
        "\n",
        "  NegTest=NegativeTest(Pop_RN, Per_NTN, Per_NTP)\n",
        "  Pop_NTN=NegTest.count(0)\n",
        "  Pop_NTP=NegTest.count(1)\n",
        "  fig_dataX[i]=Per_Anti\n",
        "  fig_dataY[i]=chance_Pos(Pop_PTP, Pop_NTP)\n",
        "  fig_dataX.append(1)\n",
        "  fig_dataY.append(1)\n",
        "  i+=1\n",
        "  Per_Anti = Per_Anti+0.002\n",
        "\n",
        "\n",
        "#This deletes the last index of our data as we append one at the end of the loop which is not needed\n",
        "fig_dataX.pop()\n",
        "fig_dataY.pop()\n",
        "\n",
        "#Here we plot our data\n",
        "#I also found that increasing population smoothes curve\n",
        "#Result is that for 50% of positive tests you would need 5% of population to have antibodies\n",
        "plt.plot(fig_dataX,fig_dataY)\n",
        "plt.xlabel(\"Percentage of people with antibodies\")\n",
        "plt.ylabel(\"Percentage of positive tested people actually positive\")\n",
        "\n",
        "\n",
        "\n",
        "\n",
        "  \n",
        "    "
      ],
      "execution_count": 1,
      "outputs": [
        {
          "output_type": "stream",
          "text": [
            "Population with antibodies: 5022\n",
            "Population of Positive people tested positive: 4981\n",
            "Population of Positive people tested negative: 41\n",
            "Population of Negative people tested negative: 470076\n",
            "Population of Negative people tested positive: 24902\n",
            "Percentage of people tested positive actually being positive: 16.668339858782584\n",
            "Percentage of people tested negative actually being negative: 99.99127876677508\n",
            "\n",
            "\n"
          ],
          "name": "stdout"
        },
        {
          "output_type": "execute_result",
          "data": {
            "text/plain": [
              "Text(0, 0.5, 'Percentage of positive tested people actually positive')"
            ]
          },
          "metadata": {
            "tags": []
          },
          "execution_count": 1
        },
        {
          "output_type": "display_data",
          "data": {
            "image/png": "[encoded data removed]",
            "text/plain": [
              "<Figure size 432x288 with 1 Axes>"
            ]
          },
          "metadata": {
            "tags": [],
            "needs_background": "light"
          }
        }
      ]
    },
    {
      "cell_type": "markdown",
      "metadata": {
        "id": "HQ1hG6LkA8Cy",
        "colab_type": "text"
      },
      "source": [
        "In the following text block we complete tasks 2.1 and 2.2.\n",
        "\n",
        "In the output you see the final histograms for each distribution, they seem accurate, this is due to the large datasize.\n",
        "\n",
        "Task 2.2 seems alright, however when comparing to an online calculator there is a difference. This may be due to the large bin sizes, so the probabilities aren't spread as much.\n",
        "\n",
        "Comments are written for each step"
      ]
    },
    {
      "cell_type": "code",
      "metadata": {
        "id": "FoCQPNst1rSJ",
        "colab_type": "code",
        "outputId": "9238dfa4-1751-47f6-cc66-a4544dc2bcc8",
        "colab": {
          "base_uri": "https://localhost:8080/",
          "height": 401
        }
      },
      "source": [
        "\n",
        "\n",
        "import math\n",
        "import random\n",
        "from bisect import bisect\n",
        "from random import random\n",
        "\n",
        "\n",
        "#n symbolizes the amount of different events that could happen.(For a die this would be 6). \n",
        "#I chose 10 as then i could set all distributions to range between 0 and 10\n",
        "n=10\n",
        "#Probability of event happening. This is only for the binomial function\n",
        "p=0.6\n",
        "#Here we define the number of bins needed in our histogram. There 11 as we count 0 as well as 10 to be a bin\n",
        "bins=11\n",
        "#Define math functions\n",
        "sqrt=math.sqrt\n",
        "pi=math.pi\n",
        "#This is needed for the gaussian distribution, we chose the stdev and mean to be these values so that the distribution would spread between 0 and 10\n",
        "stdev=2.5\n",
        "mean=5\n",
        "#This is the amount of data points that we will be sorting into bins.\n",
        "#A large set is chosen to have an accurate look at what the distribution should look like\n",
        "datasize=100000\n",
        "#Beta and Mu are needed in the exponential function. These values are chosen as when beta is 1 and mu is 0, it is a standard exponential distribution\n",
        "Beta=1\n",
        "Mu=0\n",
        "#This is for task 2.2, and is the two points where we want to find the sum of the probability distribution function\n",
        "rangemin=2\n",
        "rangemax=5\n",
        "#0-10 (11 bins)\n",
        "x=[0]*(n+1)\n",
        "P=[0]*(n+1)\n",
        "#The below probabilities are not needed, I could chose to plot one of the functions (shown below) but i chose to plot all in my output to show all the results\n",
        "P1=[0]*(n+1)\n",
        "P2=[0]*(n+1)\n",
        "P3=[0]*(n+1)\n",
        "y=[0]*(datasize+1)\n",
        "#The same applies for the y values just like for the P values\n",
        "y1=[0]*(datasize+1)\n",
        "y2=[0]*(datasize+1)\n",
        "y3=[0]*(datasize+1)\n",
        "\n",
        "\n",
        "#This is taken from https://stackoverflow.com/questions/3679694/a-weighted-version-of-random-choice\n",
        "#What it does is depending on the probability of every value for x, it choses and returns a value based upon these probability\n",
        "def weighted_choice(choices):\n",
        "    values, weights = zip(*choices)\n",
        "    total = 0\n",
        "    cum_weights = []\n",
        "    for w in weights:\n",
        "        total += w\n",
        "        cum_weights.append(total)\n",
        "    X = random() * total\n",
        "    i = bisect(cum_weights, X)\n",
        "    return values[i]\n",
        "\n",
        "#Here we define the probability functions\n",
        "#The gaussian function is based off of the definition found at https://stattrek.com/probability-distributions/normal.aspx\n",
        "def gaussian(stdv,mean,x):\n",
        "  P=(1/(sqrt(2*(stdv**2)*pi)))*(math.exp((-0.5*(x-mean)**2)/(stdv**2))) \n",
        "  return P\n",
        "#The binomial function is based off of the definition found at http://www-library.desy.de/preparch/books/vstatmp_engl.pdf page 56\n",
        "def binomial(n,p,x):\n",
        "  q=1-p\n",
        "  P=((math.factorial(n))/((math.factorial(n-x))*math.factorial(x)))*(p**x)*(q**(n-x))\n",
        "  return P\n",
        "#The poisson function is based off of the definition found at https://brilliant.org/wiki/poisson-distribution/\n",
        "def poisson(mean, x):\n",
        "  P=((mean**x)*(math.exp(-2.5)))/(math.factorial(x))\n",
        "  return P\n",
        "#The exponential is based off of the defintion found at https://www.itl.nist.gov/div898/handbook/eda/section3/eda3667.htm\n",
        "def exponential(Beta, Mu, x):\n",
        "  if Mu>x:\n",
        "    return \"error: Mu must be smaller or equal than x\"\n",
        "  if Beta<=0:\n",
        "    return \"error: Beta must be larger than zero\"\n",
        "  P=(1/Beta)*math.exp(-(x-Mu)/Beta)\n",
        "  return P\n",
        "\n",
        "#Here we define a function which is used for task 2.2, where we find the sum of probabilities.\n",
        "#We can choose for which distribution function it is done for, in this case we do it for the gaussian.\n",
        "#A loop is made where for each x point, we find the probability and add it to a total probability, this is then returned once fully iterated.\n",
        "def sum(rangemin,rangemax):\n",
        "  Ptot=0\n",
        "  k=0\n",
        "  for k in range(rangemin,rangemax+1):#otherwise rangemax is skipped\n",
        "    Ptot=Ptot+gaussian(stdev,mean,x[k])\n",
        "    #Ptot=Ptot+binomial(n,p,x[k])\n",
        "    #Ptot=Ptot+poisson(mean,x[i])\n",
        "    #Ptot=Ptot+exponential(Beta, Mu, x[i])\n",
        "    k=k+1\n",
        "  return Ptot\n",
        "\n",
        "#Here we fill the x list with values between 0 and 11 (bins) \n",
        "#and their corresponding probability which is found by calling the correct prob. distribution function.\n",
        "#Normally we can choose just one, but as i would like to show the result for all i did it for all four.\n",
        "i=0\n",
        "for i in range(n+1):\n",
        "  x[i]=i\n",
        "  P[i]=gaussian(stdev,mean,x[i])\n",
        "  #P[i]=binomial(n,p,x[i])\n",
        "  #P[i]=poisson(mean,x[i])\n",
        "  #P[i]=exponential(Beta, Mu, x[i])\n",
        "\n",
        "  P1[i]=binomial(n,p,x[i])\n",
        "  P2[i]=poisson(mean,x[i])\n",
        "  P3[i]=exponential(Beta, Mu, x[i])\n",
        "\n",
        "  i=i+ 1\n",
        "\n",
        "#Here we call the weighted_choice function to find the y values based on the probabilities found before. \n",
        "#This is then assigned to a y value, which iterates untill the last datapoint.\n",
        "j=0\n",
        "for j in range(datasize+1):\n",
        "    y[j]=weighted_choice([(x[0],P[0]), (x[1],P[1]), (x[2],P[2]), (x[3],P[3]), (x[4],P[4]), (x[5],P[5]), (x[6],P[6]), (x[7],P[7]), (x[8],P[8]), (x[9],P[9]), (x[10],P[10])])\n",
        "    #the bottom are not needed but as i want to show all my graphs in the output i copied for all functions\n",
        "    y1[j]=weighted_choice([(x[0],P1[0]), (x[1],P1[1]), (x[2],P1[2]), (x[3],P1[3]), (x[4],P1[4]), (x[5],P1[5]), (x[6],P1[6]), (x[7],P1[7]), (x[8],P1[8]), (x[9],P1[9]), (x[10],P1[10])])\n",
        "    y2[j]=weighted_choice([(x[0],P2[0]), (x[1],P2[1]), (x[2],P2[2]), (x[3],P2[3]), (x[4],P2[4]), (x[5],P2[5]), (x[6],P2[6]), (x[7],P2[7]), (x[8],P2[8]), (x[9],P2[9]), (x[10],P2[10])])\n",
        "    y3[j]=weighted_choice([(x[0],P3[0]), (x[1],P3[1]), (x[2],P3[2]), (x[3],P3[3]), (x[4],P3[4]), (x[5],P3[5]), (x[6],P3[6]), (x[7],P3[7]), (x[8],P3[8]), (x[9],P3[9]), (x[10],P3[10])])\n",
        "\n",
        "#Here we call the total sum for task 2.2 and print it.\n",
        "Psum=sum(rangemin,rangemax)\n",
        "print(\"\")\n",
        "print(\"The sum of the probability function between \" + str(rangemin) + \" and \" + str(rangemax) + \" is: \" + str(Psum))\n",
        "print(\"\")\n",
        "\n",
        "#Here we create four graphs, which represent the four distributions\n",
        "#Top left is gaussian\n",
        "#Top right is binomial\n",
        "#bottom left is poisson\n",
        "#bottom right is exponential\n",
        "fig = plt.figure()\n",
        "pl = fig.add_subplot(221)\n",
        "pl1 = fig.add_subplot(222)\n",
        "pl2 = fig.add_subplot(223)\n",
        "pl3 = fig.add_subplot(224)\n",
        "\n",
        "pl.hist(y,bins, range=[0, 11])\n",
        "pl1.hist(y1,bins, range=[0, 11])\n",
        "pl2.hist(y2,bins, range=[0, 11])\n",
        "pl3.hist(y3,bins, range=[0, 11])\n",
        "\n",
        "\n",
        "\n",
        "\n"
      ],
      "execution_count": 2,
      "outputs": [
        {
          "output_type": "stream",
          "text": [
            "\n",
            "The sum of the probability function between 2 and 5 is: 0.5004360113797808\n",
            "\n"
          ],
          "name": "stdout"
        },
        {
          "output_type": "execute_result",
          "data": {
            "text/plain": [
              "(array([6.2919e+04, 2.3434e+04, 8.5220e+03, 3.3360e+03, 1.1210e+03,\n",
              "        4.2600e+02, 1.7100e+02, 3.9000e+01, 1.8000e+01, 1.2000e+01,\n",
              "        3.0000e+00]),\n",
              " array([ 0.,  1.,  2.,  3.,  4.,  5.,  6.,  7.,  8.,  9., 10., 11.]),\n",
              " <a list of 11 Patch objects>)"
            ]
          },
          "metadata": {
            "tags": []
          },
          "execution_count": 2
        },
        {
          "output_type": "display_data",
          "data": {
            "image/png": "[encoded data removed]",
            "text/plain": [
              "<Figure size 432x288 with 4 Axes>"
            ]
          },
          "metadata": {
            "tags": [],
            "needs_background": "light"
          }
        }
      ]
    },
    {
      "cell_type": "markdown",
      "metadata": {
        "id": "7GVP_X1KH0wI",
        "colab_type": "text"
      },
      "source": [
        "Task 2.3\n",
        "\n",
        "In the code below, I struggled to plot a completely continuous distribution. Instead I plotted the distribution with many x values, as to make it as smooth and continuous as possible. The result is shown in the output below and seems good. We call the functions defined before\n",
        "\n",
        "Comments are made for each step."
      ]
    },
    {
      "cell_type": "code",
      "metadata": {
        "id": "mP7iuhDcI7Iu",
        "colab_type": "code",
        "outputId": "43d11eda-ae37-4a56-b373-136c1cf2be4c",
        "colab": {
          "base_uri": "https://localhost:8080/",
          "height": 282
        }
      },
      "source": [
        "#Task 2.3\n",
        "\n",
        "#For the continuous distribution, we choose 1000 x points. This doesn't make it fully continous but i struggled plotting a function without defining x\n",
        "#The larger nC is, the more continuous the distribution will be.\n",
        "nC=10000\n",
        "#here we choose in what range we want to plot our continuous set. \n",
        "xmin=-5\n",
        "xmax=15\n",
        "#Here we create a list between the two range defined above, with equal spacing between each x points.\n",
        "xC=np.linspace(xmin,xmax,nC+1)\n",
        "#Below a list for the probabilities is made, the same size as xC and will be filled up later.\n",
        "PC=[0]*(nC+1)\n",
        "\n",
        "#In the loop we fill up the list for probability by calling the function that we want to graph as a continuous function.\n",
        "i=0\n",
        "for i in range(nC+1):\n",
        "  PC[i]=gaussian(stdev,mean,xC[i])\n",
        "  i=i+1\n",
        "#Here we plot the continuous distribution\n",
        "plt.plot(xC,PC)\n",
        "plt.xlim(xmin,xmax)\n"
      ],
      "execution_count": 3,
      "outputs": [
        {
          "output_type": "execute_result",
          "data": {
            "text/plain": [
              "(-5.0, 15.0)"
            ]
          },
          "metadata": {
            "tags": []
          },
          "execution_count": 3
        },
        {
          "output_type": "display_data",
          "data": {
            "image/png": "[encoded data removed]",
            "text/plain": [
              "<Figure size 432x288 with 1 Axes>"
            ]
          },
          "metadata": {
            "tags": [],
            "needs_background": "light"
          }
        }
      ]
    },
    {
      "cell_type": "markdown",
      "metadata": {
        "id": "fMn6NapkJ-oC",
        "colab_type": "text"
      },
      "source": [
        "For taks 3.1, we used the equations given in the question sheet to find the expectation values for a discrete and continuous distribution.\n",
        "\n",
        "I managed to find the expecation value for any discrete distribution fairly easily, however it did not get the exact value. For the discrete gaussian we expected to get a value of 5, but got 4.87.\n",
        "\n",
        "For the continuous distribution we did manage to get the correct value however, we did not use any of the work done before."
      ]
    },
    {
      "cell_type": "code",
      "metadata": {
        "id": "YXxwb39r-tFR",
        "colab_type": "code",
        "outputId": "e3c4d745-2b45-4aaa-dded-dd24d47b5385",
        "colab": {
          "base_uri": "https://localhost:8080/",
          "height": 51
        }
      },
      "source": [
        " #Task 3.1\n",
        " \n",
        " from scipy.integrate import quad\n",
        "\n",
        "#Below we create a function which callates the expectation value for discrete distributions.\n",
        "#What the function does is it iterates over the x and P values from the distribution, and multiplies each x with its corresponding P.\n",
        "#This is then added to a sum value each iteration until the last index.\n",
        "def dis_expectation(x,P):\n",
        "  Sum=0\n",
        "  i=0\n",
        "  for i in range(n+1):\n",
        "    Sum=Sum+x[i]*P[i]\n",
        "    i=i+1\n",
        "  return Sum\n",
        "\n",
        "#Here we call our function using the x and P defined when we made our discrete gaussian function above, and print it below\n",
        "print(dis_expectation(x,P))\n",
        "\n",
        "#I had trouble integrating over the continuous function defined before, so what i did instead is rewrite the function below and integrate over x\n",
        "#I also had difficulty with indefinite integrals, so I set two boundaries which is large enough to cover the important part of the gaussian function\n",
        "def integrand(x):\n",
        "  return ((1/(sqrt(2*(stdev**2)*pi)))*(math.exp((-0.5*(x-mean)**2)/(stdev**2))))*x\n",
        "ans, err = quad(integrand,-20,30)\n",
        "#Here i print the expected value for a continuous gaussian distribution\n",
        "print(ans)\n",
        "  \n"
      ],
      "execution_count": 4,
      "outputs": [
        {
          "output_type": "stream",
          "text": [
            "4.866122757765516\n",
            "5.000000000000001\n"
          ],
          "name": "stdout"
        }
      ]
    },
    {
      "cell_type": "markdown",
      "metadata": {
        "id": "yECL_WgmPT7L",
        "colab_type": "text"
      },
      "source": [
        "Task 3.2\n",
        "\n",
        "I have never seen deal or no deal, so not sure if i did it correctly but did it based off of the directions.\n",
        "I created 20 boxes, let the user pick one randomly, and took 3 random boxes out. Then from the remaining boxes i calculated the expectation value of the prize money. \n"
      ]
    },
    {
      "cell_type": "code",
      "metadata": {
        "id": "Y70ROBGqWESV",
        "colab_type": "code",
        "colab": {
          "base_uri": "https://localhost:8080/",
          "height": 289
        },
        "outputId": "d69719e1-27e0-4d81-deed-f3ced87353a2"
      },
      "source": [
        "#Task 3.2\n",
        "\n",
        "import random\n",
        "\n",
        "#We start by creating 20 boxes\n",
        "n=20\n",
        "box=[0]*20\n",
        "#In each box we put a prize money, I multiplied by 1000 as 1-20 dollars doesnt seem like much money :D\n",
        "for i in range(n):\n",
        "  box[i]=(i+1)*1000\n",
        "\n",
        "#In the first statement we show each box and how much money it contains\n",
        "print(\"Welcome to deal or no deal, we have twenty box's each containing the following amount: \" )\n",
        "print(\"\")\n",
        "print(box)\n",
        "print(\"\")\n",
        "print(\"We will now shuffle the box's and place them in a row\")\n",
        "print(\"\")\n",
        "#Here the box is shuffled randomly so that the \"contestant\" doesnt know in which index each box is\n",
        "random.shuffle(box)\n",
        "\n",
        "#The contestant chooses his final box which wont be opened yet.\n",
        "#This is done by asking which index he wants and then the value of that index in the box list is taken\n",
        "box_chos = int(input(\"Please choose the box in the row that you want: \"))\n",
        "box_chosen=box[box_chos-1]\n",
        "print(\"\")\n",
        "print(\"You chose \" + str(box_chos)+ \". This box will not be opened yet!\")\n",
        "#Here the box chosen is taken out as that one cant be chosen.\n",
        "del box[box_chos-1]\n",
        "print(\"\")\n",
        "print(\"Now three more boxes are chosen at random.\")\n",
        "\n",
        "i=0\n",
        "j=0\n",
        "k=0 \n",
        "#Here we choose 3 random box's through a function that chooses a random number in the list.\n",
        "#In the loop we check for the value that was taken and remove the money so that it doesnt get calculated in the expectation value.\n",
        "box1=random.choice(box)\n",
        "for i in range(n-1):\n",
        "  if box[i]==box1:\n",
        "    box[i]=0\n",
        "  elif box[i]!=box1:\n",
        "   i=i+1\n",
        "\n",
        "box2=random.choice(box)\n",
        "for j in range(n-1):\n",
        "  if box[j]==box2:\n",
        "    box[j]=0\n",
        "  elif box[j]!=box2:\n",
        "   j=j+1\n",
        "\n",
        "box3=random.choice(box)\n",
        "for i in range(n-1):\n",
        "  if box[k]==box3:\n",
        "    box[k]=0\n",
        "  elif box[k]!=box3:\n",
        "   k=k+1\n",
        "\n",
        "#Here we print what the values taken from each box is\n",
        "print(\"\")\n",
        "print(\"The three boxes chosen contain values : \" +str(box1)+ \", \"+ str(box2)+\", \"+str(box3))\n",
        "\n",
        "#The we create a probability list containing the P for each box\n",
        "box.append(box_chosen)\n",
        "P=[0]*(n+1)\n",
        "i=0\n",
        "#The probability list is filled up here, they should all be the same and 1/17 which is the number of boxes left, or the length of boxes.\n",
        "for i in range(n+1):\n",
        "  P[i]=1/17\n",
        "  i=i+1\n",
        "\n",
        "#Here we add one more zero to the box list, as otherwise the expectaion function defined above wont work when called.\n",
        "# The zero wont affect the expectation value as it is multiplied so you are adding zero to the sum\n",
        "box.append(0)\n",
        "#Here we call the discrete expectation value created previously\n",
        "ex_value=dis_expectation(box,P)\n",
        "#Here we print our final result\n",
        "print(\"\")\n",
        "print(\"The expected amount in this box is: \" + str(ex_value)+ \"$\")\n",
        "print(\"Your box has: \" + str(box_chosen)+\"$\")\n",
        "\n",
        "\n",
        "\n"
      ],
      "execution_count": 5,
      "outputs": [
        {
          "output_type": "stream",
          "text": [
            "Welcome to deal or no deal, we have twenty box's each containing the following amount: \n",
            "\n",
            "[1000, 2000, 3000, 4000, 5000, 6000, 7000, 8000, 9000, 10000, 11000, 12000, 13000, 14000, 15000, 16000, 17000, 18000, 19000, 20000]\n",
            "\n",
            "We will now shuffle the box's and place them in a row\n",
            "\n",
            "Please choose the box in the row that you want: 8\n",
            "\n",
            "You chose 8. This box will not be opened yet!\n",
            "\n",
            "Now three more boxes are chosen at random.\n",
            "\n",
            "The three boxes chosen contain values : 9000, 20000, 14000\n",
            "\n",
            "The expected amount in this box is: 9823.529411764706$\n",
            "Your box has: 12000$\n"
          ],
          "name": "stdout"
        }
      ]
    }
  ]
}